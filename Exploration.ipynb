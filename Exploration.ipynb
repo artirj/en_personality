{
 "cells": [
  {
   "cell_type": "code",
   "execution_count": null,
   "metadata": {},
   "outputs": [],
   "source": [
    "from load import load_sql"
   ]
  },
  {
   "cell_type": "code",
   "execution_count": null,
   "metadata": {},
   "outputs": [],
   "source": [
    "msg=load_sql()"
   ]
  },
  {
   "cell_type": "code",
   "execution_count": null,
   "metadata": {
    "scrolled": true
   },
   "outputs": [],
   "source": [
    "msg.head(100)"
   ]
  },
  {
   "cell_type": "code",
   "execution_count": null,
   "metadata": {
    "scrolled": true
   },
   "outputs": [],
   "source": [
    "# Cleaning\n",
    "def no_forward(df):\n",
    "    return df[~df.body.str.startswith(\"---------------------- Forwarded by\")]\n",
    "\n",
    "\n",
    "def no_original_msg(df):\n",
    "    df = df.copy()\n",
    "    exprs = [\n",
    "        \"-----Original Message\",\n",
    "        \"---------------------- Forwarded by\",\n",
    "        \"----- Forwarded by\",\n",
    "        \"-------- Inline attachment follows\",\n",
    "        \"\\t\\t\\tFrom:\",\n",
    "        \"cc: Subject:\",\n",
    "        \"Sara ShackletonEnron North America Corp\",\n",
    "        \" Debra PerlingiereEnron\",\n",
    "        \"Outlook Migration Team\",\n",
    "        \"Matthew B Fleming@\",\n",
    "        \"Lynn Lynn Blair Northern\",\n",
    "        \"TASK ASSIGNMENT\",\n",
    "        \"X-FileName\",\n",
    "        \"KayRhonda L Denton@ECT0\",\n",
    "    ]\n",
    "    # Find emails to drop\n",
    "    drop_emails = (\n",
    "        df.body.str.extract('(\"?[A-z \\.,]+\"? <[a-zA-Z0-9_.]+@[A-z ]+\\..{2,3}>)')[0]\n",
    "        .dropna()\n",
    "        .unique()\n",
    "        .tolist()\n",
    "    )\n",
    "    exprs += drop_emails\n",
    "    drop_emails2 = (\n",
    "        df.body.str.extract(\"((?:From:)? [A-z ]+@[A-Z]{1,7})\").dropna()[0].unique().tolist()\n",
    "    )\n",
    "    exprs += drop_emails2\n",
    "    drop_emails3 = (\n",
    "        df.body.str.extract(\"([0-9]{2}/[0-9]{2}/[0-9]{4} [0-9]{2}:[0-9]{2} PMTo:)\")\n",
    "        .dropna()[0]\n",
    "        .unique()\n",
    "        .tolist()\n",
    "    )\n",
    "    exprs+=drop_emails3\n",
    "    for expr in exprs:\n",
    "        mask = df.body.str.contains(expr,regex=False)\n",
    "\n",
    "        df.loc[mask, \"body\"] = df.loc[mask, \"body\"].apply(lambda x: x.split(expr)[0])\n",
    "    return df\n",
    "\n",
    "\n",
    "def remove_words(df):\n",
    "    df = df.copy()\n",
    "    reg = {\n",
    "        \"--------------------------Sent from my BlackBerry Wireless Handheld \\(www\\.BlackBerry\\.net\\)\": \"\",\n",
    "        \"\\t\": \" \",\n",
    "        \" +\": \" \",\n",
    "    }\n",
    "    for exp, replace in reg.items():\n",
    "        df[\"body\"] = df.body.str.replace(exp, replace, regex=True)\n",
    "    return df\n",
    "\n",
    "\n",
    "def remove_blank(df):\n",
    "    df[\"body\"] = df[\"body\"].str.strip()\n",
    "    return df[df.body.str.len() >= 2]\n",
    "\n",
    "\n",
    "def process_df(df):\n",
    "    return (\n",
    "        df.pipe(no_forward).pipe(no_original_msg).pipe(remove_words).pipe(remove_blank)\n",
    "    )\n",
    "\n",
    "\n",
    "t = msg.pipe(process_df)"
   ]
  },
  {
   "cell_type": "code",
   "execution_count": null,
   "metadata": {},
   "outputs": [],
   "source": [
    "!mkdir processed_data"
   ]
  },
  {
   "cell_type": "code",
   "execution_count": null,
   "metadata": {
    "scrolled": true
   },
   "outputs": [],
   "source": [
    "t.to_csv('processed_data/data.csv',index=False)"
   ]
  },
  {
   "cell_type": "code",
   "execution_count": null,
   "metadata": {
    "scrolled": true
   },
   "outputs": [],
   "source": [
    "t.body.sample(5).apply(lambda x: print(x,\"\\n\"))"
   ]
  },
  {
   "cell_type": "code",
   "execution_count": null,
   "metadata": {},
   "outputs": [],
   "source": [
    "t2=t[t.sender.isin(t.groupby('sender').count().pipe(lambda x: x[x.body>=50]).index)]\n"
   ]
  },
  {
   "cell_type": "code",
   "execution_count": null,
   "metadata": {
    "scrolled": true
   },
   "outputs": [],
   "source": [
    "t2.assign(l=lambda x: x.body.str.len()).groupby(\"sender\").l.agg(\n",
    "    [\"mean\", \"count\"]\n",
    ").sort_values(\"mean\")"
   ]
  },
  {
   "cell_type": "code",
   "execution_count": null,
   "metadata": {},
   "outputs": [],
   "source": [
    "t2[t2.sender==\"mike.maggi@enron.com\"].body.sample(5).apply(print)"
   ]
  },
  {
   "cell_type": "code",
   "execution_count": null,
   "metadata": {
    "scrolled": true
   },
   "outputs": [],
   "source": [
    "# Drink-> party words?\n",
    "t2[t2.body.str.contains(\"drink\")]"
   ]
  },
  {
   "cell_type": "code",
   "execution_count": null,
   "metadata": {
    "scrolled": true
   },
   "outputs": [],
   "source": [
    "import re\n",
    "t2[(t2.body.str.len()<100)&(t2.body.str.contains(\"can you\",flags=re.I))]"
   ]
  },
  {
   "cell_type": "code",
   "execution_count": null,
   "metadata": {},
   "outputs": [],
   "source": [
    "t2[t2.body.str.contains(\"horse\")].sample(1).body.iloc[0]"
   ]
  }
 ],
 "metadata": {
  "kernelspec": {
   "display_name": "PyEnv",
   "language": "python",
   "name": "pyenv"
  },
  "language_info": {
   "codemirror_mode": {
    "name": "ipython",
    "version": 3
   },
   "file_extension": ".py",
   "mimetype": "text/x-python",
   "name": "python",
   "nbconvert_exporter": "python",
   "pygments_lexer": "ipython3",
   "version": "3.6.7"
  }
 },
 "nbformat": 4,
 "nbformat_minor": 2
}
