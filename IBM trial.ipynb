{
 "cells": [
  {
   "cell_type": "code",
   "execution_count": 13,
   "metadata": {
    "scrolled": true
   },
   "outputs": [
    {
     "name": "stdout",
     "output_type": "stream",
     "text": [
      "Collecting ibm-watson\n",
      "\u001b[?25l  Downloading https://files.pythonhosted.org/packages/af/82/a0a8555e37c6822bc63b6170d6f30d3681c3ec987b3ab9b8f83f9b3887a3/ibm-watson-3.0.4.tar.gz (246kB)\n",
      "\u001b[K    100% |████████████████████████████████| 256kB 1.1MB/s ta 0:00:01\n",
      "\u001b[?25hRequirement already satisfied, skipping upgrade: requests<3.0,>=2.0 in /home/jose/envs/env/lib/python3.6/site-packages (from ibm-watson) (2.21.0)\n",
      "Requirement already satisfied, skipping upgrade: python_dateutil>=2.5.3 in /home/jose/envs/env/lib/python3.6/site-packages (from ibm-watson) (2.8.0)\n",
      "Requirement already satisfied, skipping upgrade: websocket-client==0.48.0 in /home/jose/envs/env/lib/python3.6/site-packages (from ibm-watson) (0.48.0)\n",
      "Collecting ibm_cloud_sdk_core>=0.2.0 (from ibm-watson)\n",
      "  Downloading https://files.pythonhosted.org/packages/50/61/2c197bf3898f3ef74b22adc595a15f315d8c45c5ca7586dbe93b8b947825/ibm-cloud-sdk-core-0.4.2.tar.gz\n",
      "Requirement already satisfied, skipping upgrade: urllib3<1.25,>=1.21.1 in /home/jose/envs/env/lib/python3.6/site-packages (from requests<3.0,>=2.0->ibm-watson) (1.24.1)\n",
      "Requirement already satisfied, skipping upgrade: certifi>=2017.4.17 in /home/jose/envs/env/lib/python3.6/site-packages (from requests<3.0,>=2.0->ibm-watson) (2018.11.29)\n",
      "Requirement already satisfied, skipping upgrade: chardet<3.1.0,>=3.0.2 in /home/jose/envs/env/lib/python3.6/site-packages (from requests<3.0,>=2.0->ibm-watson) (3.0.4)\n",
      "Requirement already satisfied, skipping upgrade: idna<2.9,>=2.5 in /home/jose/envs/env/lib/python3.6/site-packages (from requests<3.0,>=2.0->ibm-watson) (2.8)\n",
      "Requirement already satisfied, skipping upgrade: six>=1.5 in /home/jose/envs/env/lib/python3.6/site-packages (from python_dateutil>=2.5.3->ibm-watson) (1.12.0)\n",
      "Building wheels for collected packages: ibm-watson, ibm-cloud-sdk-core\n",
      "  Running setup.py bdist_wheel for ibm-watson ... \u001b[?25ldone\n",
      "\u001b[?25h  Stored in directory: /home/jose/.cache/pip/wheels/b0/b4/42/15563549063278065c74f6fabcd9eae12666230edebbac9a66\n",
      "  Running setup.py bdist_wheel for ibm-cloud-sdk-core ... \u001b[?25ldone\n",
      "\u001b[?25h  Stored in directory: /home/jose/.cache/pip/wheels/16/27/32/7d296851e2bf81e0965e313cedd4f1bc08d3eab4eaae7c133d\n",
      "Successfully built ibm-watson ibm-cloud-sdk-core\n",
      "Installing collected packages: ibm-cloud-sdk-core, ibm-watson\n",
      "Successfully installed ibm-cloud-sdk-core-0.4.2 ibm-watson-3.0.4\n",
      "\u001b[33mYou are using pip version 18.1, however version 19.1.1 is available.\n",
      "You should consider upgrading via the 'pip install --upgrade pip' command.\u001b[0m\n"
     ]
    }
   ],
   "source": [
    "! pip install --upgrade ibm-watson"
   ]
  },
  {
   "cell_type": "code",
   "execution_count": 1,
   "metadata": {},
   "outputs": [
    {
     "name": "stderr",
     "output_type": "stream",
     "text": [
      "/home/jose/envs/env/lib/python3.6/importlib/_bootstrap.py:219: RuntimeWarning: numpy.dtype size changed, may indicate binary incompatibility. Expected 96, got 88\n",
      "  return f(*args, **kwds)\n",
      "/home/jose/envs/env/lib/python3.6/importlib/_bootstrap.py:219: RuntimeWarning: numpy.dtype size changed, may indicate binary incompatibility. Expected 96, got 88\n",
      "  return f(*args, **kwds)\n"
     ]
    }
   ],
   "source": [
    "import pandas as pd\n",
    "from ibm_watson import ToneAnalyzerV3\n",
    "data=pd.read_csv('processed_data/data.csv')"
   ]
  },
  {
   "cell_type": "code",
   "execution_count": 2,
   "metadata": {},
   "outputs": [],
   "source": [
    "texts=data.groupby('sender').body.apply(lambda x: ' '.join(x.astype(str)))"
   ]
  },
  {
   "cell_type": "code",
   "execution_count": 26,
   "metadata": {},
   "outputs": [],
   "source": [
    "from credentials import credentials\n",
    "PI = PersonalityInsightsV3( \n",
    "    version=\"2019-05-12\",\n",
    "    iam_apikey=credentials_pers['apikey'],\n",
    "    url=credentials_pers['url'])"
   ]
  },
  {
   "cell_type": "code",
   "execution_count": 29,
   "metadata": {},
   "outputs": [],
   "source": [
    "ex=PI.tone(texts.iloc[0])"
   ]
  },
  {
   "cell_type": "code",
   "execution_count": 32,
   "metadata": {},
   "outputs": [
    {
     "data": {
      "text/plain": [
       "[{'score': 0.608454, 'tone_id': 'joy', 'tone_name': 'Joy'},\n",
       " {'score': 0.558697, 'tone_id': 'tentative', 'tone_name': 'Tentative'}]"
      ]
     },
     "execution_count": 32,
     "metadata": {},
     "output_type": "execute_result"
    }
   ],
   "source": [
    "ex.get_result()['document_tone']['tones']"
   ]
  },
  {
   "cell_type": "code",
   "execution_count": 38,
   "metadata": {},
   "outputs": [
    {
     "name": "stdout",
     "output_type": "stream",
     "text": [
      "andrea.ring@enron.com\n",
      "andy.zipper@enron.com\n",
      "barry.tycholiz@enron.com\n",
      "benjamin.rogers@enron.com\n",
      "bill.rapp@enron.com\n",
      "cara.semperger@enron.com\n",
      "carol.clair@enron.com\n",
      "charles.weldon@enron.com\n",
      "chris.dorland@enron.com\n",
      "chris.germany@enron.com\n",
      "cooper.richey@enron.com\n",
      "dan.hyvl@enron.com\n",
      "dana.davis@enron.com\n",
      "danny.mccarty@enron.com\n",
      "daren.j.farmer@enron.com\n",
      "darrell.schoolcraft@enron.com\n",
      "david.w.delainey@enron.com\n",
      "debra.perlingiere@enron.com\n",
      "diana.scholtes@enron.com\n",
      "don.baughman@enron.com\n",
      "drew.fossum@enron.com\n",
      "dutch.quigley@enron.com\n",
      "e..haedicke@enron.com\n",
      "elizabeth.sager@enron.com\n",
      "eric.bass@enron.com\n",
      "errol.mclaughlin@enron.com\n",
      "fletcher.j.sturm@enron.com\n",
      "geoff.storey@enron.com\n",
      "gerald.nemec@enron.com\n",
      "greg.whalley@enron.com\n",
      "holden.salisbury@enron.com\n",
      "hunter.s.shively@enron.com\n",
      "Error: The number of words 1 is less than the minimum number of words required for analysis: 100, Code: 400 , X-global-transaction-id: ee78f2f15a34001e0f1ad016414928b7\n",
      "iskmgtstaceyspecial projectsStacey\n",
      "j.kaminski@enron.com\n",
      "james.d.steffes@enron.com\n",
      "james.derrick@enron.com\n",
      "jane.tholt@enron.com\n",
      "jason.williams@enron.com\n",
      "jeff.dasovich@enron.com\n",
      "jeffrey.a.shankman@enron.com\n",
      "jim.schwieger@enron.com\n",
      "joe.parks@enron.com\n",
      "joe.stepenovitch@enron.com\n",
      "john.arnold@enron.com\n",
      "john.griffith@enron.com\n",
      "Error: The number of words 45 is less than the minimum number of words required for analysis: 100, Code: 400 , X-global-transaction-id: 509a85728d8c7aca18c17fd026ee92d4\n",
      "john.zufferli@enron.com\n",
      "jonathan.mckay@enron.com\n",
      "juan.hernandez@enron.com\n",
      "kam.keiser@enron.com\n",
      "kate.symes@enron.com\n",
      "kay.mann@enron.com\n",
      "kevin.hyatt@enron.com\n",
      "kevin.m.presto@enron.com\n",
      "kevin.ruscitti@enron.com\n",
      "kim.ward@enron.com\n",
      "kimberly.watson@enron.com\n",
      "l..gay@enron.com\n",
      "larry.f.campbell@enron.com\n",
      "lavorato@enron.com\n",
      "lindy.donoho@enron.com\n",
      "lisa.gang@enron.com\n",
      "liz.taylor@enron.com\n",
      "louise.kitchen@enron.com\n",
      "lynn.blair@enron.com\n",
      "m..forney@enron.com\n",
      "marie.heard@enron.com\n",
      "mark.e.taylor@enron.com\n",
      "mark.mcconnell@enron.com\n",
      "mark.whitt@enron.com\n",
      "martin.cuilla@enron.com\n",
      "mary.hain@enron.com\n",
      "matt.smith@enron.com\n",
      "matthew.lenhart@enron.com\n",
      "michelle.cash@enron.com\n",
      "michelle.lokay@enron.com\n",
      "mike.carson@enron.com\n",
      "mike.grigsby@enron.com\n",
      "mike.maggi@enron.com\n",
      "monika.causholli@enron.com\n",
      "monique.sanchez@enron.com\n",
      "patrice.l.mims@enron.com\n",
      "paul.d.thomas@enron.com\n",
      "paul.lucci@enron.com\n",
      "paul.y barbo@enron.com\n",
      "peter.keavey@enron.com\n",
      "phillip.k.ellen@enron.com\n",
      "phillip.m.love@enron.com\n",
      "phillip.platter@enron.com\n",
      "richard.b.sanders@enron.com\n",
      "richard.shapiro@enron.com\n",
      "rick.buy@enron.com\n",
      "robin.rodrigue@enron.com\n",
      "rod.hayslett@enron.com\n",
      "sally.beck@enron.com\n",
      "sandra.f.brawner@enron.com\n",
      "sara.shackleton@enron.com\n",
      "scott.neal@enron.com\n",
      "shelley.corman@enron.com\n",
      "stacey.w.white@enron.com\n",
      "stacy.dickson@enron.com\n",
      "stanley.horton@enron.com\n",
      "stephanie.panus@enron.com\n",
      "steven.harris@enron.com\n",
      "steven.j.kean@enron.com\n",
      "susan.bailey@enron.com\n",
      "susan.scott@enron.com\n",
      "tana.jones@enron.com\n",
      "teb.lokey@enron.com\n",
      "theresa.staab@enron.com\n",
      "thomas.a.martin@enron.com\n",
      "tori.kuykendall@enron.com\n",
      "tracy.geaccone@enron.com\n"
     ]
    }
   ],
   "source": [
    "email_to_json={}\n",
    "for index,t in texts.iteritems():\n",
    "    try:\n",
    "        profile=PI.profile(content=t,content_type=\"text/plain\",accept=\"application/json\")\n",
    "        email_to_json[index]=profile\n",
    "    except Exception as e:\n",
    "        email_to_json[index]=None\n",
    "        print(e)\n",
    "    print(index)"
   ]
  },
  {
   "cell_type": "code",
   "execution_count": 52,
   "metadata": {},
   "outputs": [],
   "source": [
    "with open(\"processed_data/pickled_personality.pkl\",\"wb\") as file:\n",
    "    pickle.dump(insights,file)"
   ]
  },
  {
   "cell_type": "code",
   "execution_count": 43,
   "metadata": {},
   "outputs": [],
   "source": [
    "g=email_to_json['sally.beck@enron.com']"
   ]
  },
  {
   "cell_type": "code",
   "execution_count": 49,
   "metadata": {},
   "outputs": [],
   "source": [
    "insights={i:j.get_result() for i,j in email_to_json.items() if j is not None}"
   ]
  },
  {
   "cell_type": "code",
   "execution_count": 62,
   "metadata": {},
   "outputs": [],
   "source": [
    "# all are significant\n",
    "personalities=pd.concat([pd.DataFrame(insight['personality'])[['percentile','name']].assign(sender=name) for name,insight in insights.items()])"
   ]
  },
  {
   "cell_type": "code",
   "execution_count": 67,
   "metadata": {
    "scrolled": true
   },
   "outputs": [],
   "source": [
    "personalities.to_csv('processed_data/personalities.csv',index=False)"
   ]
  },
  {
   "cell_type": "code",
   "execution_count": 78,
   "metadata": {},
   "outputs": [
    {
     "data": {
      "text/html": [
       "<div>\n",
       "<style scoped>\n",
       "    .dataframe tbody tr th:only-of-type {\n",
       "        vertical-align: middle;\n",
       "    }\n",
       "\n",
       "    .dataframe tbody tr th {\n",
       "        vertical-align: top;\n",
       "    }\n",
       "\n",
       "    .dataframe thead th {\n",
       "        text-align: right;\n",
       "    }\n",
       "</style>\n",
       "<table border=\"1\" class=\"dataframe\">\n",
       "  <thead>\n",
       "    <tr style=\"text-align: right;\">\n",
       "      <th>name</th>\n",
       "      <th>Agreeableness</th>\n",
       "      <th>Conscientiousness</th>\n",
       "      <th>Emotional range</th>\n",
       "      <th>Extraversion</th>\n",
       "      <th>Openness</th>\n",
       "    </tr>\n",
       "    <tr>\n",
       "      <th>name</th>\n",
       "      <th></th>\n",
       "      <th></th>\n",
       "      <th></th>\n",
       "      <th></th>\n",
       "      <th></th>\n",
       "    </tr>\n",
       "  </thead>\n",
       "  <tbody>\n",
       "    <tr>\n",
       "      <th>Agreeableness</th>\n",
       "      <td>1.000000</td>\n",
       "      <td>0.453442</td>\n",
       "      <td>-0.048169</td>\n",
       "      <td>0.489249</td>\n",
       "      <td>-0.255580</td>\n",
       "    </tr>\n",
       "    <tr>\n",
       "      <th>Conscientiousness</th>\n",
       "      <td>0.453442</td>\n",
       "      <td>1.000000</td>\n",
       "      <td>0.626550</td>\n",
       "      <td>0.206843</td>\n",
       "      <td>0.141513</td>\n",
       "    </tr>\n",
       "    <tr>\n",
       "      <th>Emotional range</th>\n",
       "      <td>-0.048169</td>\n",
       "      <td>0.626550</td>\n",
       "      <td>1.000000</td>\n",
       "      <td>0.196901</td>\n",
       "      <td>0.477625</td>\n",
       "    </tr>\n",
       "    <tr>\n",
       "      <th>Extraversion</th>\n",
       "      <td>0.489249</td>\n",
       "      <td>0.206843</td>\n",
       "      <td>0.196901</td>\n",
       "      <td>1.000000</td>\n",
       "      <td>0.215643</td>\n",
       "    </tr>\n",
       "    <tr>\n",
       "      <th>Openness</th>\n",
       "      <td>-0.255580</td>\n",
       "      <td>0.141513</td>\n",
       "      <td>0.477625</td>\n",
       "      <td>0.215643</td>\n",
       "      <td>1.000000</td>\n",
       "    </tr>\n",
       "  </tbody>\n",
       "</table>\n",
       "</div>"
      ],
      "text/plain": [
       "name               Agreeableness  Conscientiousness  Emotional range  \\\n",
       "name                                                                   \n",
       "Agreeableness           1.000000           0.453442        -0.048169   \n",
       "Conscientiousness       0.453442           1.000000         0.626550   \n",
       "Emotional range        -0.048169           0.626550         1.000000   \n",
       "Extraversion            0.489249           0.206843         0.196901   \n",
       "Openness               -0.255580           0.141513         0.477625   \n",
       "\n",
       "name               Extraversion  Openness  \n",
       "name                                       \n",
       "Agreeableness          0.489249 -0.255580  \n",
       "Conscientiousness      0.206843  0.141513  \n",
       "Emotional range        0.196901  0.477625  \n",
       "Extraversion           1.000000  0.215643  \n",
       "Openness               0.215643  1.000000  "
      ]
     },
     "execution_count": 78,
     "metadata": {},
     "output_type": "execute_result"
    }
   ],
   "source": [
    "personalities.groupby(['name','sender']).sum().unstack().percentile.T.corr()"
   ]
  },
  {
   "cell_type": "code",
   "execution_count": 33,
   "metadata": {},
   "outputs": [],
   "source": [
    "# TOnes\n",
    "from credentials import credentials_tone\n",
    "\n",
    "PI = ToneAnalyzerV3(\n",
    "    iam_apikey=credentials_tone[\"apikey\"],\n",
    "    url=credentials_tone[\"url\"],\n",
    "    version=\"2019-05-12\",\n",
    ")\n",
    "# ex.get_result()['document_tone']['tones']"
   ]
  },
  {
   "cell_type": "code",
   "execution_count": 35,
   "metadata": {},
   "outputs": [
    {
     "name": "stdout",
     "output_type": "stream",
     "text": [
      "andrea.ring@enron.com\n",
      "andy.zipper@enron.com\n",
      "barry.tycholiz@enron.com\n"
     ]
    },
    {
     "ename": "NameError",
     "evalue": "name 'email_to_json' is not defined",
     "output_type": "error",
     "traceback": [
      "\u001b[0;31m---------------------------------------------------------------------------\u001b[0m",
      "\u001b[0;31mApiException\u001b[0m                              Traceback (most recent call last)",
      "\u001b[0;32m<ipython-input-35-79900a7c2649>\u001b[0m in \u001b[0;36m<module>\u001b[0;34m\u001b[0m\n\u001b[1;32m      3\u001b[0m     \u001b[0;32mtry\u001b[0m\u001b[0;34m:\u001b[0m\u001b[0;34m\u001b[0m\u001b[0;34m\u001b[0m\u001b[0m\n\u001b[0;32m----> 4\u001b[0;31m         \u001b[0mprofile\u001b[0m\u001b[0;34m=\u001b[0m\u001b[0mPI\u001b[0m\u001b[0;34m.\u001b[0m\u001b[0mtone\u001b[0m\u001b[0;34m(\u001b[0m\u001b[0mt\u001b[0m\u001b[0;34m)\u001b[0m\u001b[0;34m\u001b[0m\u001b[0;34m\u001b[0m\u001b[0m\n\u001b[0m\u001b[1;32m      5\u001b[0m         \u001b[0mtone_to_json\u001b[0m\u001b[0;34m[\u001b[0m\u001b[0mindex\u001b[0m\u001b[0;34m]\u001b[0m\u001b[0;34m=\u001b[0m\u001b[0mprofile\u001b[0m\u001b[0;34m.\u001b[0m\u001b[0mget_result\u001b[0m\u001b[0;34m(\u001b[0m\u001b[0;34m)\u001b[0m\u001b[0;34m\u001b[0m\u001b[0;34m\u001b[0m\u001b[0m\n",
      "\u001b[0;32m~/envs/env/lib/python3.6/site-packages/ibm_watson/tone_analyzer_v3.py\u001b[0m in \u001b[0;36mtone\u001b[0;34m(self, tone_input, sentences, tones, content_language, accept_language, content_type, **kwargs)\u001b[0m\n\u001b[1;32m    206\u001b[0m             \u001b[0mdata\u001b[0m\u001b[0;34m=\u001b[0m\u001b[0mdata\u001b[0m\u001b[0;34m,\u001b[0m\u001b[0;34m\u001b[0m\u001b[0;34m\u001b[0m\u001b[0m\n\u001b[0;32m--> 207\u001b[0;31m             accept_json=True)\n\u001b[0m\u001b[1;32m    208\u001b[0m         \u001b[0;32mreturn\u001b[0m \u001b[0mresponse\u001b[0m\u001b[0;34m\u001b[0m\u001b[0;34m\u001b[0m\u001b[0m\n",
      "\u001b[0;32m~/envs/env/lib/python3.6/site-packages/ibm_cloud_sdk_core/base_service.py\u001b[0m in \u001b[0;36mrequest\u001b[0;34m(self, method, url, accept_json, headers, params, json, data, files, **kwargs)\u001b[0m\n\u001b[1;32m    357\u001b[0m                                 \u001b[0;34m'invalid credentials'\u001b[0m\u001b[0;34m\u001b[0m\u001b[0;34m\u001b[0m\u001b[0m\n\u001b[0;32m--> 358\u001b[0;31m             \u001b[0;32mraise\u001b[0m \u001b[0mApiException\u001b[0m\u001b[0;34m(\u001b[0m\u001b[0mresponse\u001b[0m\u001b[0;34m.\u001b[0m\u001b[0mstatus_code\u001b[0m\u001b[0;34m,\u001b[0m \u001b[0merror_message\u001b[0m\u001b[0;34m,\u001b[0m \u001b[0mhttp_response\u001b[0m\u001b[0;34m=\u001b[0m\u001b[0mresponse\u001b[0m\u001b[0;34m)\u001b[0m\u001b[0;34m\u001b[0m\u001b[0;34m\u001b[0m\u001b[0m\n\u001b[0m\u001b[1;32m    359\u001b[0m \u001b[0;34m\u001b[0m\u001b[0m\n",
      "\u001b[0;31mApiException\u001b[0m: Error: Input text exceeded API limit of 131,072 bytes, Code: 400 , X-global-transaction-id: 985891a0b6f4558ac9d207063bc0bf1e",
      "\nDuring handling of the above exception, another exception occurred:\n",
      "\u001b[0;31mNameError\u001b[0m                                 Traceback (most recent call last)",
      "\u001b[0;32m<ipython-input-35-79900a7c2649>\u001b[0m in \u001b[0;36m<module>\u001b[0;34m\u001b[0m\n\u001b[1;32m      5\u001b[0m         \u001b[0mtone_to_json\u001b[0m\u001b[0;34m[\u001b[0m\u001b[0mindex\u001b[0m\u001b[0;34m]\u001b[0m\u001b[0;34m=\u001b[0m\u001b[0mprofile\u001b[0m\u001b[0;34m.\u001b[0m\u001b[0mget_result\u001b[0m\u001b[0;34m(\u001b[0m\u001b[0;34m)\u001b[0m\u001b[0;34m\u001b[0m\u001b[0;34m\u001b[0m\u001b[0m\n\u001b[1;32m      6\u001b[0m     \u001b[0;32mexcept\u001b[0m \u001b[0mException\u001b[0m \u001b[0;32mas\u001b[0m \u001b[0me\u001b[0m\u001b[0;34m:\u001b[0m\u001b[0;34m\u001b[0m\u001b[0;34m\u001b[0m\u001b[0m\n\u001b[0;32m----> 7\u001b[0;31m         \u001b[0memail_to_json\u001b[0m\u001b[0;34m[\u001b[0m\u001b[0mindex\u001b[0m\u001b[0;34m]\u001b[0m\u001b[0;34m=\u001b[0m\u001b[0;32mNone\u001b[0m\u001b[0;34m\u001b[0m\u001b[0;34m\u001b[0m\u001b[0m\n\u001b[0m\u001b[1;32m      8\u001b[0m         \u001b[0mprint\u001b[0m\u001b[0;34m(\u001b[0m\u001b[0me\u001b[0m\u001b[0;34m)\u001b[0m\u001b[0;34m\u001b[0m\u001b[0;34m\u001b[0m\u001b[0m\n\u001b[1;32m      9\u001b[0m     \u001b[0mprint\u001b[0m\u001b[0;34m(\u001b[0m\u001b[0mindex\u001b[0m\u001b[0;34m)\u001b[0m\u001b[0;34m\u001b[0m\u001b[0;34m\u001b[0m\u001b[0m\n",
      "\u001b[0;31mNameError\u001b[0m: name 'email_to_json' is not defined"
     ]
    }
   ],
   "source": [
    "#Not working\n",
    "tone_to_json={}\n",
    "for index,t in texts.iteritems():\n",
    "    try:\n",
    "        profile=PI.tone(t)\n",
    "        tone_to_json[index]=profile.get_result()\n",
    "    except Exception, as e:\n",
    "        email_to_json[index]=None\n",
    "        print(e)\n",
    "    print(index)"
   ]
  }
 ],
 "metadata": {
  "kernelspec": {
   "display_name": "PyEnv",
   "language": "python",
   "name": "pyenv"
  },
  "language_info": {
   "codemirror_mode": {
    "name": "ipython",
    "version": 3
   },
   "file_extension": ".py",
   "mimetype": "text/x-python",
   "name": "python",
   "nbconvert_exporter": "python",
   "pygments_lexer": "ipython3",
   "version": "3.6.7"
  }
 },
 "nbformat": 4,
 "nbformat_minor": 2
}
